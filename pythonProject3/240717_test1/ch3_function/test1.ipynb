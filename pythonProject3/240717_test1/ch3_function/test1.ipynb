{
 "cells": [
  {
   "cell_type": "code",
   "id": "initial_id",
   "metadata": {
    "collapsed": true,
    "ExecuteTime": {
     "end_time": "2024-07-17T06:33:07.278394Z",
     "start_time": "2024-07-17T06:33:07.275184Z"
    }
   },
   "source": [
    "def spam(eggs):\n",
    "    eggs.append(1)\n",
    "    print(f'spam(eggs)안에서 ham 의 id 순서2: {id(ham)}') \n",
    "    print(f'spam(eggs)안에서 eggs 의 id 순서3: {id(eggs)}')    \n",
    "    eggs = [2,3] #재선언됨. 또 다른 메모리 위치 주솟값이 할당됨. \n",
    "    print(f'spam(eggs)안에서 eggs 의 id 순서4: {id(eggs)}')\n",
    "\n",
    "ham = [0]\n",
    "print(f'ham 의 id 순서1 : {id(ham)}')\n",
    "spam(ham)\n",
    "print(f'ham 의 id 순서5: {id(ham)}')\n",
    "print(ham)"
   ],
   "outputs": [
    {
     "name": "stdout",
     "output_type": "stream",
     "text": [
      "ham 의 id 순서1 : 2483387793536\n",
      "spam(eggs)안에서 ham 의 id 순서2: 2483387793536\n",
      "spam(eggs)안에서 eggs 의 id 순서3: 2483387793536\n",
      "spam(eggs)안에서 eggs 의 id 순서4: 2483387795904\n",
      "ham 의 id 순서5: 2483387793536\n",
      "[0, 1]\n"
     ]
    }
   ],
   "execution_count": 3
  },
  {
   "metadata": {},
   "cell_type": "code",
   "outputs": [],
   "execution_count": null,
   "source": "",
   "id": "949117a40a0c8f77"
  }
 ],
 "metadata": {
  "kernelspec": {
   "display_name": "Python 3",
   "language": "python",
   "name": "python3"
  },
  "language_info": {
   "codemirror_mode": {
    "name": "ipython",
    "version": 2
   },
   "file_extension": ".py",
   "mimetype": "text/x-python",
   "name": "python",
   "nbconvert_exporter": "python",
   "pygments_lexer": "ipython2",
   "version": "2.7.6"
  }
 },
 "nbformat": 4,
 "nbformat_minor": 5
}
