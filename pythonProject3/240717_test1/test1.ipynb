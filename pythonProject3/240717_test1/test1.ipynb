{
 "cells": [
  {
   "cell_type": "code",
   "id": "initial_id",
   "metadata": {
    "collapsed": true,
    "ExecuteTime": {
     "end_time": "2024-07-17T00:49:10.617685Z",
     "start_time": "2024-07-17T00:49:10.613550Z"
    }
   },
   "source": "print(\"오늘 점심 뭐 먹죠?\")",
   "outputs": [
    {
     "name": "stdout",
     "output_type": "stream",
     "text": [
      "오늘 점심 뭐 먹죠?\n"
     ]
    }
   ],
   "execution_count": 1
  },
  {
   "metadata": {
    "ExecuteTime": {
     "end_time": "2024-07-17T01:27:09.684114Z",
     "start_time": "2024-07-17T01:27:09.676106Z"
    }
   },
   "cell_type": "code",
   "source": "10 + 20",
   "id": "3d0f95beb5f2d048",
   "outputs": [
    {
     "data": {
      "text/plain": [
       "30"
      ]
     },
     "execution_count": 1,
     "metadata": {},
     "output_type": "execute_result"
    }
   ],
   "execution_count": 1
  },
  {
   "metadata": {
    "ExecuteTime": {
     "end_time": "2024-07-17T01:36:14.131545Z",
     "start_time": "2024-07-17T01:36:14.127647Z"
    }
   },
   "cell_type": "code",
   "source": [
    "lunchMenu = \"돈까스\"\n",
    "price = 8000\n",
    "print(lunchMenu)\n",
    "print(price)\n",
    "print(type(lunchMenu))\n",
    "print(type(price))"
   ],
   "id": "17a8dfb9219815a7",
   "outputs": [
    {
     "name": "stdout",
     "output_type": "stream",
     "text": [
      "돈까스\n",
      "8000\n",
      "<class 'str'>\n",
      "<class 'int'>\n"
     ]
    }
   ],
   "execution_count": 2
  },
  {
   "metadata": {
    "ExecuteTime": {
     "end_time": "2024-07-17T01:37:34.965576Z",
     "start_time": "2024-07-17T01:37:34.960776Z"
    }
   },
   "cell_type": "code",
   "source": [
    "priceFloat = float(price)\n",
    "priceStr = str(price)\n",
    "print(priceStr)\n",
    "print(priceFloat)\n",
    "print(type(priceFloat))\n",
    "print(type(priceStr))"
   ],
   "id": "6c1e8b9fca46c2a4",
   "outputs": [
    {
     "name": "stdout",
     "output_type": "stream",
     "text": [
      "8000\n",
      "8000.0\n",
      "<class 'float'>\n",
      "<class 'str'>\n"
     ]
    }
   ],
   "execution_count": 3
  },
  {
   "metadata": {
    "ExecuteTime": {
     "end_time": "2024-07-17T01:38:52.817710Z",
     "start_time": "2024-07-17T01:38:52.813719Z"
    }
   },
   "cell_type": "code",
   "source": [
    "varA = 1\n",
    "print(id(varA))"
   ],
   "id": "9ec56f7573167201",
   "outputs": [
    {
     "name": "stdout",
     "output_type": "stream",
     "text": [
      "140708512725432\n"
     ]
    }
   ],
   "execution_count": 4
  },
  {
   "metadata": {
    "ExecuteTime": {
     "end_time": "2024-07-17T01:43:29.792034Z",
     "start_time": "2024-07-17T01:43:29.786967Z"
    }
   },
   "cell_type": "code",
   "source": "print(\"오늘 먹을 점심 메뉴 : %s, 가격 : %d원\" % (lunchMenu, price))",
   "id": "dce5c704245ef5d",
   "outputs": [
    {
     "name": "stdout",
     "output_type": "stream",
     "text": [
      "오늘 먹을 점심 메뉴 : 돈까스, 가격 : 8000원\n"
     ]
    }
   ],
   "execution_count": 5
  },
  {
   "metadata": {
    "ExecuteTime": {
     "end_time": "2024-07-17T01:45:27.761963Z",
     "start_time": "2024-07-17T01:45:27.757311Z"
    }
   },
   "cell_type": "code",
   "source": "print(f\"오늘 먹을 점심 메뉴 : {lunchMenu}, 가격 : {price}원\")",
   "id": "7e3f7a18d26b04da",
   "outputs": [
    {
     "name": "stdout",
     "output_type": "stream",
     "text": [
      "오늘 먹을 점심 메뉴 : 돈까스, 각격 : 8000원\n"
     ]
    }
   ],
   "execution_count": 6
  },
  {
   "metadata": {
    "ExecuteTime": {
     "end_time": "2024-07-17T01:48:05.241488Z",
     "start_time": "2024-07-17T01:47:44.512775Z"
    }
   },
   "cell_type": "code",
   "source": [
    "todayLunchMenuInput = input(\"오늘 먹고 싶은 메뉴 입력 해주세요?\")\n",
    "print(f\"오늘 먹고 싶은 점심 메뉴 : {todayLunchMenuInput} !!!\")"
   ],
   "id": "4fba447600ee0c0c",
   "outputs": [
    {
     "name": "stdout",
     "output_type": "stream",
     "text": [
      "오늘 먹고 싶은 점심 메뉴 : 돈까스 & 모밀 세트 !!!\n"
     ]
    }
   ],
   "execution_count": 7
  },
  {
   "metadata": {
    "ExecuteTime": {
     "end_time": "2024-07-17T02:24:38.215809Z",
     "start_time": "2024-07-17T02:24:38.213029Z"
    }
   },
   "cell_type": "code",
   "source": "todayMenuList = [\"0돈까스-8\",\"1모밀-7\",\"2도시락-6\",\"3참깨라면-5\",\"4제육볶음-4\",\"5국수-3\",\"6된장찌개-2\",\"7국밥-1\"]",
   "id": "5e5984c7ba1d89c8",
   "outputs": [],
   "execution_count": 8
  },
  {
   "metadata": {
    "ExecuteTime": {
     "end_time": "2024-07-17T02:24:40.723746Z",
     "start_time": "2024-07-17T02:24:40.719750Z"
    }
   },
   "cell_type": "code",
   "source": "print(todayMenuList[:])",
   "id": "df5acf84df96a8e2",
   "outputs": [
    {
     "name": "stdout",
     "output_type": "stream",
     "text": [
      "['0돈까스-8', '1모밀-7', '2도시락-6', '3참깨라면-5', '4제육볶음-4', '5국수-3', '6된장찌개-2', '7국밥-1']\n"
     ]
    }
   ],
   "execution_count": 9
  },
  {
   "metadata": {
    "ExecuteTime": {
     "end_time": "2024-07-17T02:24:42.787114Z",
     "start_time": "2024-07-17T02:24:42.782893Z"
    }
   },
   "cell_type": "code",
   "source": "print(todayMenuList[0:2])",
   "id": "1b04d495ac72c30f",
   "outputs": [
    {
     "name": "stdout",
     "output_type": "stream",
     "text": [
      "['0돈까스-8', '1모밀-7']\n"
     ]
    }
   ],
   "execution_count": 10
  },
  {
   "metadata": {
    "ExecuteTime": {
     "end_time": "2024-07-17T02:24:44.540205Z",
     "start_time": "2024-07-17T02:24:44.536888Z"
    }
   },
   "cell_type": "code",
   "source": "print(todayMenuList[6:-1])",
   "id": "9d271db84e60c201",
   "outputs": [
    {
     "name": "stdout",
     "output_type": "stream",
     "text": [
      "['6된장찌개-2']\n"
     ]
    }
   ],
   "execution_count": 11
  },
  {
   "metadata": {
    "ExecuteTime": {
     "end_time": "2024-07-17T02:25:52.983822Z",
     "start_time": "2024-07-17T02:25:52.979779Z"
    }
   },
   "cell_type": "code",
   "source": "print(todayMenuList[4:])\n",
   "id": "4b66bd986ec99af9",
   "outputs": [
    {
     "name": "stdout",
     "output_type": "stream",
     "text": [
      "['4제육볶음-4', '5국수-3', '6된장찌개-2', '7국밥-1']\n"
     ]
    }
   ],
   "execution_count": 12
  },
  {
   "metadata": {
    "ExecuteTime": {
     "end_time": "2024-07-17T02:26:11.884407Z",
     "start_time": "2024-07-17T02:26:11.881337Z"
    }
   },
   "cell_type": "code",
   "source": "print(todayMenuList[:4])",
   "id": "a9d908e7f85b85a7",
   "outputs": [
    {
     "name": "stdout",
     "output_type": "stream",
     "text": [
      "['0돈까스-8', '1모밀-7', '2도시락-6', '3참깨라면-5']\n"
     ]
    }
   ],
   "execution_count": 13
  },
  {
   "metadata": {
    "ExecuteTime": {
     "end_time": "2024-07-17T02:28:51.330846Z",
     "start_time": "2024-07-17T02:28:51.326541Z"
    }
   },
   "cell_type": "code",
   "source": "print(todayMenuList[1:8:2])",
   "id": "fea0d4fd2140f7f6",
   "outputs": [
    {
     "name": "stdout",
     "output_type": "stream",
     "text": [
      "['1모밀-7', '3참깨라면-5', '5국수-3', '7국밥-1']\n"
     ]
    }
   ],
   "execution_count": 14
  },
  {
   "metadata": {
    "ExecuteTime": {
     "end_time": "2024-07-17T02:29:10.430403Z",
     "start_time": "2024-07-17T02:29:10.425053Z"
    }
   },
   "cell_type": "code",
   "source": "print(todayMenuList[0:8:2])",
   "id": "1333bef8eea24440",
   "outputs": [
    {
     "name": "stdout",
     "output_type": "stream",
     "text": [
      "['0돈까스-8', '2도시락-6', '4제육볶음-4', '6된장찌개-2']\n"
     ]
    }
   ],
   "execution_count": 15
  },
  {
   "metadata": {
    "ExecuteTime": {
     "end_time": "2024-07-17T02:29:56.748514Z",
     "start_time": "2024-07-17T02:29:56.745513Z"
    }
   },
   "cell_type": "code",
   "source": "print(todayMenuList[::-1])",
   "id": "2c4cd4bba3b171d5",
   "outputs": [
    {
     "name": "stdout",
     "output_type": "stream",
     "text": [
      "['7국밥-1', '6된장찌개-2', '5국수-3', '4제육볶음-4', '3참깨라면-5', '2도시락-6', '1모밀-7', '0돈까스-8']\n"
     ]
    }
   ],
   "execution_count": 16
  },
  {
   "metadata": {},
   "cell_type": "code",
   "outputs": [],
   "execution_count": null,
   "source": "",
   "id": "d876d18e58927691"
  }
 ],
 "metadata": {
  "kernelspec": {
   "display_name": "Python 3",
   "language": "python",
   "name": "python3"
  },
  "language_info": {
   "codemirror_mode": {
    "name": "ipython",
    "version": 2
   },
   "file_extension": ".py",
   "mimetype": "text/x-python",
   "name": "python",
   "nbconvert_exporter": "python",
   "pygments_lexer": "ipython2",
   "version": "2.7.6"
  }
 },
 "nbformat": 4,
 "nbformat_minor": 5
}
