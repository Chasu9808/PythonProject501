{
 "cells": [
  {
   "cell_type": "code",
   "id": "initial_id",
   "metadata": {
    "collapsed": true,
    "ExecuteTime": {
     "end_time": "2024-07-17T06:33:07.278394Z",
     "start_time": "2024-07-17T06:33:07.275184Z"
    }
   },
   "source": [
    "def spam(eggs):\n",
    "    eggs.append(1)\n",
    "    print(f'spam(eggs)안에서 ham 의 id 순서2: {id(ham)}') \n",
    "    print(f'spam(eggs)안에서 eggs 의 id 순서3: {id(eggs)}')    \n",
    "    eggs = [2,3] #재선언됨. 또 다른 메모리 위치 주솟값이 할당됨. \n",
    "    print(f'spam(eggs)안에서 eggs 의 id 순서4: {id(eggs)}')\n",
    "\n",
    "ham = [0]\n",
    "print(f'ham 의 id 순서1 : {id(ham)}')\n",
    "spam(ham)\n",
    "print(f'ham 의 id 순서5: {id(ham)}')\n",
    "print(ham)"
   ],
   "outputs": [
    {
     "name": "stdout",
     "output_type": "stream",
     "text": [
      "ham 의 id 순서1 : 2483387793536\n",
      "spam(eggs)안에서 ham 의 id 순서2: 2483387793536\n",
      "spam(eggs)안에서 eggs 의 id 순서3: 2483387793536\n",
      "spam(eggs)안에서 eggs 의 id 순서4: 2483387795904\n",
      "ham 의 id 순서5: 2483387793536\n",
      "[0, 1]\n"
     ]
    }
   ],
   "execution_count": 3
  },
  {
   "metadata": {
    "ExecuteTime": {
     "end_time": "2024-07-17T07:06:03.160937Z",
     "start_time": "2024-07-17T07:06:03.154953Z"
    }
   },
   "cell_type": "code",
   "source": [
    "def f():\n",
    "    global s\n",
    "    s = \"I love Busan\"\n",
    "    print(s)\n",
    "s = \"I love 국밥\"\n",
    "f()\n",
    "print(s)"
   ],
   "id": "949117a40a0c8f77",
   "outputs": [
    {
     "name": "stdout",
     "output_type": "stream",
     "text": [
      "I love Busan\n",
      "I love Busan\n"
     ]
    }
   ],
   "execution_count": 4
  },
  {
   "metadata": {
    "ExecuteTime": {
     "end_time": "2024-07-17T07:25:55.002633Z",
     "start_time": "2024-07-17T07:25:54.993842Z"
    }
   },
   "cell_type": "code",
   "source": [
    "# def sum(a,b,*args):\n",
    "#     return print(args)\n",
    "# \n",
    "# print(sum(1,2,3,4))"
   ],
   "id": "229ad00d642fd980",
   "outputs": [
    {
     "name": "stdout",
     "output_type": "stream",
     "text": [
      "(3, 4)\n",
      "None\n"
     ]
    }
   ],
   "execution_count": 6
  },
  {
   "metadata": {
    "ExecuteTime": {
     "end_time": "2024-07-17T07:32:10.405368Z",
     "start_time": "2024-07-17T07:32:10.401372Z"
    }
   },
   "cell_type": "code",
   "source": [
    "def sum2(a,b,*args):\n",
    "    return a + b + sum(args)\n",
    "print(f\"sum2(1,2,3,4,5)의 결과 : {sum2(1,2,3,4,5)}\")"
   ],
   "id": "d1f8eed0f16f368a",
   "outputs": [
    {
     "name": "stdout",
     "output_type": "stream",
     "text": [
      "sum2(1,2,3,4,5)의 결과 : 15\n"
     ]
    }
   ],
   "execution_count": 1
  },
  {
   "metadata": {
    "ExecuteTime": {
     "end_time": "2024-07-17T07:35:25.922433Z",
     "start_time": "2024-07-17T07:35:25.915161Z"
    }
   },
   "cell_type": "code",
   "source": [
    "def testKargs(**args):\n",
    "    print(args)\n",
    "    print(f\"키 값에 해당하는 value 값 조회 : {args[\"a\"]}\")\n",
    "    print(f\"키 값에 해당하는 value 값 조회 : {args[\"b\"]}\")\n",
    "    print(f\"키 값에 해당하는 value 값 조회 : {args[\"c\"]}\")\n",
    "    \n",
    "testKargs(a = 1, b = 2, c = 3)"
   ],
   "id": "45c441133c402fb0",
   "outputs": [
    {
     "name": "stdout",
     "output_type": "stream",
     "text": [
      "{'a': 1, 'b': 2, 'c': 3}\n",
      "키 값에 해당하는 value 값 조회 : 1\n",
      "키 값에 해당하는 value 값 조회 : 2\n",
      "키 값에 해당하는 value 값 조회 : 3\n"
     ]
    }
   ],
   "execution_count": 2
  },
  {
   "metadata": {
    "ExecuteTime": {
     "end_time": "2024-07-17T07:38:55.381793Z",
     "start_time": "2024-07-17T07:38:55.377208Z"
    }
   },
   "cell_type": "code",
   "source": [
    "def A(*args) :\n",
    "    x,y , *z = args\n",
    "    print(f\"z의 타입 : {type(z)}\")\n",
    "    return x,y,z\n",
    "\n",
    "print(f\"A(1,2) 의 결과 : {A(1,2)}\")\n",
    "print(f\"A(1,2,3) 의 결과 : {A(1,2,3)}\")\n",
    "print(f\"A(1,2,3,4,5) 의 결과 : {A(1,2,3,4,5)}\")\n",
    "\n"
   ],
   "id": "987a68c191d7b739",
   "outputs": [
    {
     "name": "stdout",
     "output_type": "stream",
     "text": [
      "z의 타입 : <class 'list'>\n",
      "A(1,2) 의 결과 : (1, 2, [])\n",
      "z의 타입 : <class 'list'>\n",
      "A(1,2,3) 의 결과 : (1, 2, [3])\n",
      "z의 타입 : <class 'list'>\n",
      "A(1,2,3,4,5) 의 결과 : (1, 2, [3, 4, 5])\n"
     ]
    }
   ],
   "execution_count": 4
  },
  {
   "metadata": {},
   "cell_type": "code",
   "outputs": [],
   "execution_count": null,
   "source": "",
   "id": "d42fdbc6c1936ab2"
  }
 ],
 "metadata": {
  "kernelspec": {
   "display_name": "Python 3",
   "language": "python",
   "name": "python3"
  },
  "language_info": {
   "codemirror_mode": {
    "name": "ipython",
    "version": 2
   },
   "file_extension": ".py",
   "mimetype": "text/x-python",
   "name": "python",
   "nbconvert_exporter": "python",
   "pygments_lexer": "ipython2",
   "version": "2.7.6"
  }
 },
 "nbformat": 4,
 "nbformat_minor": 5
}
