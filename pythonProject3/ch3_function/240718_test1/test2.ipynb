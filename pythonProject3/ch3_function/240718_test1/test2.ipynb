{
 "cells": [
  {
   "cell_type": "code",
   "id": "initial_id",
   "metadata": {
    "collapsed": true,
    "ExecuteTime": {
     "end_time": "2024-07-18T00:42:50.990784Z",
     "start_time": "2024-07-18T00:42:50.978986Z"
    }
   },
   "source": [
    "sampleStr = \"     test 오늘 점심 뭐 먹지?, 비가 오나요 menu : Korean Food     \"\n",
    "print(f\"len(sampleStr) : {len(sampleStr)}\")"
   ],
   "outputs": [
    {
     "name": "stdout",
     "output_type": "stream",
     "text": [
      "len(sampleStr) : 53\n"
     ]
    }
   ],
   "execution_count": 46
  },
  {
   "metadata": {
    "ExecuteTime": {
     "end_time": "2024-07-18T00:42:51.035671Z",
     "start_time": "2024-07-18T00:42:51.032274Z"
    }
   },
   "cell_type": "code",
   "source": "print(sampleStr.upper())",
   "id": "f6cd9c6f6cac5955",
   "outputs": [
    {
     "name": "stdout",
     "output_type": "stream",
     "text": [
      "     TEST 오늘 점심 뭐 먹지?, 비가 오나요 MENU : KOREAN FOOD     \n"
     ]
    }
   ],
   "execution_count": 47
  },
  {
   "metadata": {
    "ExecuteTime": {
     "end_time": "2024-07-18T00:42:51.080559Z",
     "start_time": "2024-07-18T00:42:51.077491Z"
    }
   },
   "cell_type": "code",
   "source": "print(sampleStr.lower())",
   "id": "3d5d409c73247120",
   "outputs": [
    {
     "name": "stdout",
     "output_type": "stream",
     "text": [
      "     test 오늘 점심 뭐 먹지?, 비가 오나요 menu : korean food     \n"
     ]
    }
   ],
   "execution_count": 48
  },
  {
   "metadata": {
    "ExecuteTime": {
     "end_time": "2024-07-18T00:42:51.085611Z",
     "start_time": "2024-07-18T00:42:51.081554Z"
    }
   },
   "cell_type": "code",
   "source": "print(sampleStr.title())",
   "id": "feac4231316b9120",
   "outputs": [
    {
     "name": "stdout",
     "output_type": "stream",
     "text": [
      "     Test 오늘 점심 뭐 먹지?, 비가 오나요 Menu : Korean Food     \n"
     ]
    }
   ],
   "execution_count": 49
  },
  {
   "metadata": {
    "ExecuteTime": {
     "end_time": "2024-07-18T00:42:51.097042Z",
     "start_time": "2024-07-18T00:42:51.093589Z"
    }
   },
   "cell_type": "code",
   "source": "print(sampleStr.capitalize())",
   "id": "886e7ec4bb32d264",
   "outputs": [
    {
     "name": "stdout",
     "output_type": "stream",
     "text": [
      "     test 오늘 점심 뭐 먹지?, 비가 오나요 menu : korean food     \n"
     ]
    }
   ],
   "execution_count": 50
  },
  {
   "metadata": {
    "ExecuteTime": {
     "end_time": "2024-07-18T00:42:51.104039Z",
     "start_time": "2024-07-18T00:42:51.100029Z"
    }
   },
   "cell_type": "code",
   "source": "print(sampleStr.count(\"o\"))",
   "id": "3062f27910087a43",
   "outputs": [
    {
     "name": "stdout",
     "output_type": "stream",
     "text": [
      "3\n"
     ]
    }
   ],
   "execution_count": 51
  },
  {
   "metadata": {
    "ExecuteTime": {
     "end_time": "2024-07-18T00:42:51.138238Z",
     "start_time": "2024-07-18T00:42:51.133956Z"
    }
   },
   "cell_type": "code",
   "source": "print(sampleStr.find(\"오\"))",
   "id": "f37ad13801b8cb4a",
   "outputs": [
    {
     "name": "stdout",
     "output_type": "stream",
     "text": [
      "10\n"
     ]
    }
   ],
   "execution_count": 52
  },
  {
   "metadata": {
    "ExecuteTime": {
     "end_time": "2024-07-18T00:42:51.151424Z",
     "start_time": "2024-07-18T00:42:51.148205Z"
    }
   },
   "cell_type": "code",
   "source": "print(sampleStr.rfind(\"오\"))",
   "id": "68c803050a193c8",
   "outputs": [
    {
     "name": "stdout",
     "output_type": "stream",
     "text": [
      "26\n"
     ]
    }
   ],
   "execution_count": 53
  },
  {
   "metadata": {
    "ExecuteTime": {
     "end_time": "2024-07-18T00:42:51.214826Z",
     "start_time": "2024-07-18T00:42:51.212205Z"
    }
   },
   "cell_type": "code",
   "source": "print(sampleStr.startswith(\"Te\"))",
   "id": "c14bc630e202bd5c",
   "outputs": [
    {
     "name": "stdout",
     "output_type": "stream",
     "text": [
      "False\n"
     ]
    }
   ],
   "execution_count": 54
  },
  {
   "metadata": {
    "ExecuteTime": {
     "end_time": "2024-07-18T00:42:51.245238Z",
     "start_time": "2024-07-18T00:42:51.242750Z"
    }
   },
   "cell_type": "code",
   "source": "print(sampleStr.endswith(\"d\"))",
   "id": "38bfb5d5a9e869a5",
   "outputs": [
    {
     "name": "stdout",
     "output_type": "stream",
     "text": [
      "False\n"
     ]
    }
   ],
   "execution_count": 55
  },
  {
   "metadata": {
    "ExecuteTime": {
     "end_time": "2024-07-18T00:42:51.273223Z",
     "start_time": "2024-07-18T00:42:51.270168Z"
    }
   },
   "cell_type": "code",
   "source": "print(sampleStr.strip())",
   "id": "7b8adcf192c6e180",
   "outputs": [
    {
     "name": "stdout",
     "output_type": "stream",
     "text": [
      "test 오늘 점심 뭐 먹지?, 비가 오나요 menu : Korean Food\n"
     ]
    }
   ],
   "execution_count": 56
  },
  {
   "metadata": {
    "ExecuteTime": {
     "end_time": "2024-07-18T00:43:17.065600Z",
     "start_time": "2024-07-18T00:43:17.062183Z"
    }
   },
   "cell_type": "code",
   "source": "print(sampleStr.lstrip())",
   "id": "87c369c18d93bd0e",
   "outputs": [
    {
     "name": "stdout",
     "output_type": "stream",
     "text": [
      "test 오늘 점심 뭐 먹지?, 비가 오나요 menu : Korean Food     \n"
     ]
    }
   ],
   "execution_count": 57
  },
  {
   "metadata": {
    "ExecuteTime": {
     "end_time": "2024-07-18T00:43:38.205148Z",
     "start_time": "2024-07-18T00:43:38.202362Z"
    }
   },
   "cell_type": "code",
   "source": "print(sampleStr.rstrip())",
   "id": "439ba71b95baf8ac",
   "outputs": [
    {
     "name": "stdout",
     "output_type": "stream",
     "text": [
      "     test 오늘 점심 뭐 먹지?, 비가 오나요 menu : Korean Food\n"
     ]
    }
   ],
   "execution_count": 59
  },
  {
   "metadata": {
    "ExecuteTime": {
     "end_time": "2024-07-18T00:44:00.167922Z",
     "start_time": "2024-07-18T00:44:00.164372Z"
    }
   },
   "cell_type": "code",
   "source": "print(sampleStr.split())",
   "id": "2810ada3d76dcb26",
   "outputs": [
    {
     "name": "stdout",
     "output_type": "stream",
     "text": [
      "['test', '오늘', '점심', '뭐', '먹지?,', '비가', '오나요', 'menu', ':', 'Korean', 'Food']\n"
     ]
    }
   ],
   "execution_count": 60
  },
  {
   "metadata": {
    "ExecuteTime": {
     "end_time": "2024-07-18T00:44:34.587127Z",
     "start_time": "2024-07-18T00:44:34.582818Z"
    }
   },
   "cell_type": "code",
   "source": "print(sampleStr.isdigit())",
   "id": "4f89cf5f3d83dc65",
   "outputs": [
    {
     "name": "stdout",
     "output_type": "stream",
     "text": [
      "False\n"
     ]
    }
   ],
   "execution_count": 61
  },
  {
   "metadata": {
    "ExecuteTime": {
     "end_time": "2024-07-18T00:44:46.800611Z",
     "start_time": "2024-07-18T00:44:46.797619Z"
    }
   },
   "cell_type": "code",
   "source": "print(sampleStr.islower())",
   "id": "c53ed4c3fec7f995",
   "outputs": [
    {
     "name": "stdout",
     "output_type": "stream",
     "text": [
      "False\n"
     ]
    }
   ],
   "execution_count": 62
  },
  {
   "metadata": {
    "ExecuteTime": {
     "end_time": "2024-07-18T00:44:55.142074Z",
     "start_time": "2024-07-18T00:44:55.138560Z"
    }
   },
   "cell_type": "code",
   "source": "print(sampleStr.isupper())",
   "id": "8a21767361b10af2",
   "outputs": [
    {
     "name": "stdout",
     "output_type": "stream",
     "text": [
      "False\n"
     ]
    }
   ],
   "execution_count": 63
  },
  {
   "metadata": {
    "ExecuteTime": {
     "end_time": "2024-07-18T01:12:10.658382Z",
     "start_time": "2024-07-18T01:12:10.652625Z"
    }
   },
   "cell_type": "code",
   "source": [
    "# yesterday 가사 파일 읽어서 , 메모리상에서 작업 해보기,\n",
    "f = open(\"yesterday.txt\",\"r\")\n",
    "# 메모리상에 파일을 읽은 f 객체를 메서드 이용해서, 문장 추출. \n",
    "yesterday_lyric = f.readlines()\n",
    "# 읽는 도구는 사용후 메모리 반납.\n",
    "f.close()\n",
    "print(yesterday_lyric)"
   ],
   "id": "8abd6660916a81fc",
   "outputs": [
    {
     "name": "stdout",
     "output_type": "stream",
     "text": [
      "['Yesterday all my troubles seemed so far away\\n', \"Now it looks as though they're here to stay\\n\", 'Oh, I believe in yesterday\\n', \"Suddenly I'm not half the man I used to be\\n\", \"There's a shadow hanging over me\\n\", 'Oh, yesterday came suddenly.\\n', \"Why she had to go I don't know,\\n\", \"she wouldn't say.\\n\", 'I said something wrong\\n', 'now I long for yesterday.\\n', 'Yesterday love was such an easy game to play\\n', 'Now I need a place to hide away\\n', 'Oh, I believe in yesterday\\n', \"Why she had to go I don't know\\n\", \"she wouldn't say\\n\", 'I said something wrong\\n', 'now I long for yesterday\\n', 'Yesterday love was such an easy game to play\\n', 'Now I need a place to hide away\\n', 'Oh, I believe in yesterday']\n"
     ]
    }
   ],
   "execution_count": 64
  },
  {
   "metadata": {
    "ExecuteTime": {
     "end_time": "2024-07-18T01:15:59.544597Z",
     "start_time": "2024-07-18T01:15:59.538615Z"
    }
   },
   "cell_type": "code",
   "source": [
    "# 한 문장씩 요소로 해서, 여러 문장을 리스트로 가지고 있고, \n",
    "# 다시, 하나의 문장으로 추출 작업\n",
    "# 임시로 담을 문자열 \n",
    "contents = \"\" \n",
    "for line in yesterday_lyric:\n",
    "    contents = contents + line.strip() + \"\\n\"\n",
    "print(f\"contents 하나의 문자열에 변수에 모든 문장 넣기: \\n{contents}\")\n"
   ],
   "id": "1069c9c2f7cbed9e",
   "outputs": [
    {
     "name": "stdout",
     "output_type": "stream",
     "text": [
      "contents 하나의 문자열에 변수에 모든 문장 넣기: \n",
      "Yesterday all my troubles seemed so far away\n",
      "Now it looks as though they're here to stay\n",
      "Oh, I believe in yesterday\n",
      "Suddenly I'm not half the man I used to be\n",
      "There's a shadow hanging over me\n",
      "Oh, yesterday came suddenly.\n",
      "Why she had to go I don't know,\n",
      "she wouldn't say.\n",
      "I said something wrong\n",
      "now I long for yesterday.\n",
      "Yesterday love was such an easy game to play\n",
      "Now I need a place to hide away\n",
      "Oh, I believe in yesterday\n",
      "Why she had to go I don't know\n",
      "she wouldn't say\n",
      "I said something wrong\n",
      "now I long for yesterday\n",
      "Yesterday love was such an easy game to play\n",
      "Now I need a place to hide away\n",
      "Oh, I believe in yesterday\n",
      "\n"
     ]
    }
   ],
   "execution_count": 65
  },
  {
   "metadata": {
    "ExecuteTime": {
     "end_time": "2024-07-18T01:17:40.564891Z",
     "start_time": "2024-07-18T01:17:40.561289Z"
    }
   },
   "cell_type": "code",
   "source": [
    "number_of_yesterday_lyric = contents.upper().count(\"YESTERDAY\")\n",
    "print(f\"number_of_yesterday_lyric YESTERDAY의 갯수   : \\n {number_of_yesterday_lyric}\")"
   ],
   "id": "1a73020f8fdd4a67",
   "outputs": [
    {
     "name": "stdout",
     "output_type": "stream",
     "text": [
      "number_of_yesterday_lyric YESTERDAY의 갯수   : \n",
      " 9\n"
     ]
    }
   ],
   "execution_count": 66
  },
  {
   "metadata": {
    "ExecuteTime": {
     "end_time": "2024-07-18T01:22:12.653117Z",
     "start_time": "2024-07-18T01:22:12.650157Z"
    }
   },
   "cell_type": "code",
   "source": [
    "# Counter 라는 모듈 도구를 이용해서, 해당 단어별 빈도 집계\n",
    "from collections import Counter\n",
    "print(f\"Counter(yesterday_lyric) 라이브러리 이용해서, 단어별 빈도 갯수 구하기 \\n :\"\n",
    "      f\"{Counter(contents)}\")"
   ],
   "id": "956014343f155bff",
   "outputs": [
    {
     "name": "stdout",
     "output_type": "stream",
     "text": [
      "Counter(yesterday_lyric) 라이브러리 이용해서, 단어별 빈도 갯수 구하기 \n",
      " :Counter({' ': 106, 'e': 65, 'a': 45, 'o': 39, 's': 35, 'y': 31, 't': 30, 'd': 28, 'h': 27, 'n': 27, 'l': 20, '\\n': 20, 'r': 19, 'w': 17, 'i': 14, 'g': 13, 'I': 13, 'm': 10, 'u': 9, \"'\": 7, 'v': 6, 'b': 5, ',': 5, 'c': 5, 'f': 4, 'O': 4, 'p': 4, 'Y': 3, 'N': 3, 'k': 3, '.': 3, 'W': 2, 'S': 1, 'T': 1})\n"
     ]
    }
   ],
   "execution_count": 68
  },
  {
   "metadata": {
    "ExecuteTime": {
     "end_time": "2024-07-18T01:23:18.294824Z",
     "start_time": "2024-07-18T01:23:18.290361Z"
    }
   },
   "cell_type": "code",
   "source": [
    "text = '''\n",
    "\"Yesterday all my troubles seemed so far away\n",
    "Now it looks as though they're here to stay\n",
    "Oh, I believe in yesterday\n",
    "Suddenly I'm not half the man I used to be\n",
    "There's a shadow hanging over me\n",
    "Oh, yesterday came suddenly.\n",
    "Why she had to go I don't know,\n",
    "she wouldn't say.\n",
    "I said something wrong\n",
    "now I long for yesterday.\n",
    "Yesterday love was such an easy game to play\n",
    "Now I need a place to hide away\n",
    "Oh, I believe in yesterday\n",
    "Why she had to go I don't know\n",
    "she wouldn't say\n",
    "I said something wrong\n",
    "now I long for yesterday\n",
    "Yesterday love was such an easy game to play\n",
    "Now I need a place to hide away\n",
    "Oh, I believe in yesterday\"\n",
    "'''.lower().split()\n",
    "# .lower 소문자로 바꾸고 .split 나누기\n",
    "print(f\"text 결과값: {text}\")\n",
    "print(\"\\n\")\n",
    "print(f\"Counter모듈 이용출력: {Counter(text)}\")"
   ],
   "id": "a3f4c8b1228f4f12",
   "outputs": [
    {
     "name": "stdout",
     "output_type": "stream",
     "text": [
      "text 결과값: ['\"yesterday', 'all', 'my', 'troubles', 'seemed', 'so', 'far', 'away', 'now', 'it', 'looks', 'as', 'though', \"they're\", 'here', 'to', 'stay', 'oh,', 'i', 'believe', 'in', 'yesterday', 'suddenly', \"i'm\", 'not', 'half', 'the', 'man', 'i', 'used', 'to', 'be', \"there's\", 'a', 'shadow', 'hanging', 'over', 'me', 'oh,', 'yesterday', 'came', 'suddenly.', 'why', 'she', 'had', 'to', 'go', 'i', \"don't\", 'know,', 'she', \"wouldn't\", 'say.', 'i', 'said', 'something', 'wrong', 'now', 'i', 'long', 'for', 'yesterday.', 'yesterday', 'love', 'was', 'such', 'an', 'easy', 'game', 'to', 'play', 'now', 'i', 'need', 'a', 'place', 'to', 'hide', 'away', 'oh,', 'i', 'believe', 'in', 'yesterday', 'why', 'she', 'had', 'to', 'go', 'i', \"don't\", 'know', 'she', \"wouldn't\", 'say', 'i', 'said', 'something', 'wrong', 'now', 'i', 'long', 'for', 'yesterday', 'yesterday', 'love', 'was', 'such', 'an', 'easy', 'game', 'to', 'play', 'now', 'i', 'need', 'a', 'place', 'to', 'hide', 'away', 'oh,', 'i', 'believe', 'in', 'yesterday\"']\n",
      "\n",
      "\n",
      "Counter모듈 이용출력: Counter({'i': 12, 'to': 8, 'yesterday': 6, 'now': 5, 'oh,': 4, 'she': 4, 'away': 3, 'believe': 3, 'in': 3, 'a': 3, 'why': 2, 'had': 2, 'go': 2, \"don't\": 2, \"wouldn't\": 2, 'said': 2, 'something': 2, 'wrong': 2, 'long': 2, 'for': 2, 'love': 2, 'was': 2, 'such': 2, 'an': 2, 'easy': 2, 'game': 2, 'play': 2, 'need': 2, 'place': 2, 'hide': 2, '\"yesterday': 1, 'all': 1, 'my': 1, 'troubles': 1, 'seemed': 1, 'so': 1, 'far': 1, 'it': 1, 'looks': 1, 'as': 1, 'though': 1, \"they're\": 1, 'here': 1, 'stay': 1, 'suddenly': 1, \"i'm\": 1, 'not': 1, 'half': 1, 'the': 1, 'man': 1, 'used': 1, 'be': 1, \"there's\": 1, 'shadow': 1, 'hanging': 1, 'over': 1, 'me': 1, 'came': 1, 'suddenly.': 1, 'know,': 1, 'say.': 1, 'yesterday.': 1, 'know': 1, 'say': 1, 'yesterday\"': 1})\n"
     ]
    }
   ],
   "execution_count": 69
  },
  {
   "metadata": {},
   "cell_type": "code",
   "outputs": [],
   "execution_count": null,
   "source": "",
   "id": "6f24169645b7e3fb"
  }
 ],
 "metadata": {
  "kernelspec": {
   "display_name": "Python 3",
   "language": "python",
   "name": "python3"
  },
  "language_info": {
   "codemirror_mode": {
    "name": "ipython",
    "version": 2
   },
   "file_extension": ".py",
   "mimetype": "text/x-python",
   "name": "python",
   "nbconvert_exporter": "python",
   "pygments_lexer": "ipython2",
   "version": "2.7.6"
  }
 },
 "nbformat": 4,
 "nbformat_minor": 5
}
