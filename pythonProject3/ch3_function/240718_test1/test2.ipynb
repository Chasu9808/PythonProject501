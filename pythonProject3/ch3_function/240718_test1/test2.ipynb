{
 "cells": [
  {
   "cell_type": "code",
   "id": "initial_id",
   "metadata": {
    "collapsed": true,
    "ExecuteTime": {
     "end_time": "2024-07-18T00:42:50.990784Z",
     "start_time": "2024-07-18T00:42:50.978986Z"
    }
   },
   "source": [
    "sampleStr = \"     test 오늘 점심 뭐 먹지?, 비가 오나요 menu : Korean Food     \"\n",
    "print(f\"len(sampleStr) : {len(sampleStr)}\")"
   ],
   "outputs": [
    {
     "name": "stdout",
     "output_type": "stream",
     "text": [
      "len(sampleStr) : 53\n"
     ]
    }
   ],
   "execution_count": 46
  },
  {
   "metadata": {
    "ExecuteTime": {
     "end_time": "2024-07-18T00:42:51.035671Z",
     "start_time": "2024-07-18T00:42:51.032274Z"
    }
   },
   "cell_type": "code",
   "source": "print(sampleStr.upper())",
   "id": "f6cd9c6f6cac5955",
   "outputs": [
    {
     "name": "stdout",
     "output_type": "stream",
     "text": [
      "     TEST 오늘 점심 뭐 먹지?, 비가 오나요 MENU : KOREAN FOOD     \n"
     ]
    }
   ],
   "execution_count": 47
  },
  {
   "metadata": {
    "ExecuteTime": {
     "end_time": "2024-07-18T00:42:51.080559Z",
     "start_time": "2024-07-18T00:42:51.077491Z"
    }
   },
   "cell_type": "code",
   "source": "print(sampleStr.lower())",
   "id": "3d5d409c73247120",
   "outputs": [
    {
     "name": "stdout",
     "output_type": "stream",
     "text": [
      "     test 오늘 점심 뭐 먹지?, 비가 오나요 menu : korean food     \n"
     ]
    }
   ],
   "execution_count": 48
  },
  {
   "metadata": {
    "ExecuteTime": {
     "end_time": "2024-07-18T00:42:51.085611Z",
     "start_time": "2024-07-18T00:42:51.081554Z"
    }
   },
   "cell_type": "code",
   "source": "print(sampleStr.title())",
   "id": "feac4231316b9120",
   "outputs": [
    {
     "name": "stdout",
     "output_type": "stream",
     "text": [
      "     Test 오늘 점심 뭐 먹지?, 비가 오나요 Menu : Korean Food     \n"
     ]
    }
   ],
   "execution_count": 49
  },
  {
   "metadata": {
    "ExecuteTime": {
     "end_time": "2024-07-18T00:42:51.097042Z",
     "start_time": "2024-07-18T00:42:51.093589Z"
    }
   },
   "cell_type": "code",
   "source": "print(sampleStr.capitalize())",
   "id": "886e7ec4bb32d264",
   "outputs": [
    {
     "name": "stdout",
     "output_type": "stream",
     "text": [
      "     test 오늘 점심 뭐 먹지?, 비가 오나요 menu : korean food     \n"
     ]
    }
   ],
   "execution_count": 50
  },
  {
   "metadata": {
    "ExecuteTime": {
     "end_time": "2024-07-18T00:42:51.104039Z",
     "start_time": "2024-07-18T00:42:51.100029Z"
    }
   },
   "cell_type": "code",
   "source": "print(sampleStr.count(\"o\"))",
   "id": "3062f27910087a43",
   "outputs": [
    {
     "name": "stdout",
     "output_type": "stream",
     "text": [
      "3\n"
     ]
    }
   ],
   "execution_count": 51
  },
  {
   "metadata": {
    "ExecuteTime": {
     "end_time": "2024-07-18T00:42:51.138238Z",
     "start_time": "2024-07-18T00:42:51.133956Z"
    }
   },
   "cell_type": "code",
   "source": "print(sampleStr.find(\"오\"))",
   "id": "f37ad13801b8cb4a",
   "outputs": [
    {
     "name": "stdout",
     "output_type": "stream",
     "text": [
      "10\n"
     ]
    }
   ],
   "execution_count": 52
  },
  {
   "metadata": {
    "ExecuteTime": {
     "end_time": "2024-07-18T00:42:51.151424Z",
     "start_time": "2024-07-18T00:42:51.148205Z"
    }
   },
   "cell_type": "code",
   "source": "print(sampleStr.rfind(\"오\"))",
   "id": "68c803050a193c8",
   "outputs": [
    {
     "name": "stdout",
     "output_type": "stream",
     "text": [
      "26\n"
     ]
    }
   ],
   "execution_count": 53
  },
  {
   "metadata": {
    "ExecuteTime": {
     "end_time": "2024-07-18T00:42:51.214826Z",
     "start_time": "2024-07-18T00:42:51.212205Z"
    }
   },
   "cell_type": "code",
   "source": "print(sampleStr.startswith(\"Te\"))",
   "id": "c14bc630e202bd5c",
   "outputs": [
    {
     "name": "stdout",
     "output_type": "stream",
     "text": [
      "False\n"
     ]
    }
   ],
   "execution_count": 54
  },
  {
   "metadata": {
    "ExecuteTime": {
     "end_time": "2024-07-18T00:42:51.245238Z",
     "start_time": "2024-07-18T00:42:51.242750Z"
    }
   },
   "cell_type": "code",
   "source": "print(sampleStr.endswith(\"d\"))",
   "id": "38bfb5d5a9e869a5",
   "outputs": [
    {
     "name": "stdout",
     "output_type": "stream",
     "text": [
      "False\n"
     ]
    }
   ],
   "execution_count": 55
  },
  {
   "metadata": {
    "ExecuteTime": {
     "end_time": "2024-07-18T00:42:51.273223Z",
     "start_time": "2024-07-18T00:42:51.270168Z"
    }
   },
   "cell_type": "code",
   "source": "print(sampleStr.strip())",
   "id": "7b8adcf192c6e180",
   "outputs": [
    {
     "name": "stdout",
     "output_type": "stream",
     "text": [
      "test 오늘 점심 뭐 먹지?, 비가 오나요 menu : Korean Food\n"
     ]
    }
   ],
   "execution_count": 56
  },
  {
   "metadata": {
    "ExecuteTime": {
     "end_time": "2024-07-18T00:43:17.065600Z",
     "start_time": "2024-07-18T00:43:17.062183Z"
    }
   },
   "cell_type": "code",
   "source": "print(sampleStr.lstrip())",
   "id": "87c369c18d93bd0e",
   "outputs": [
    {
     "name": "stdout",
     "output_type": "stream",
     "text": [
      "test 오늘 점심 뭐 먹지?, 비가 오나요 menu : Korean Food     \n"
     ]
    }
   ],
   "execution_count": 57
  },
  {
   "metadata": {
    "ExecuteTime": {
     "end_time": "2024-07-18T00:43:38.205148Z",
     "start_time": "2024-07-18T00:43:38.202362Z"
    }
   },
   "cell_type": "code",
   "source": "print(sampleStr.rstrip())",
   "id": "439ba71b95baf8ac",
   "outputs": [
    {
     "name": "stdout",
     "output_type": "stream",
     "text": [
      "     test 오늘 점심 뭐 먹지?, 비가 오나요 menu : Korean Food\n"
     ]
    }
   ],
   "execution_count": 59
  },
  {
   "metadata": {
    "ExecuteTime": {
     "end_time": "2024-07-18T00:44:00.167922Z",
     "start_time": "2024-07-18T00:44:00.164372Z"
    }
   },
   "cell_type": "code",
   "source": "print(sampleStr.split())",
   "id": "2810ada3d76dcb26",
   "outputs": [
    {
     "name": "stdout",
     "output_type": "stream",
     "text": [
      "['test', '오늘', '점심', '뭐', '먹지?,', '비가', '오나요', 'menu', ':', 'Korean', 'Food']\n"
     ]
    }
   ],
   "execution_count": 60
  },
  {
   "metadata": {
    "ExecuteTime": {
     "end_time": "2024-07-18T00:44:34.587127Z",
     "start_time": "2024-07-18T00:44:34.582818Z"
    }
   },
   "cell_type": "code",
   "source": "print(sampleStr.isdigit())",
   "id": "4f89cf5f3d83dc65",
   "outputs": [
    {
     "name": "stdout",
     "output_type": "stream",
     "text": [
      "False\n"
     ]
    }
   ],
   "execution_count": 61
  },
  {
   "metadata": {
    "ExecuteTime": {
     "end_time": "2024-07-18T00:44:46.800611Z",
     "start_time": "2024-07-18T00:44:46.797619Z"
    }
   },
   "cell_type": "code",
   "source": "print(sampleStr.islower())",
   "id": "c53ed4c3fec7f995",
   "outputs": [
    {
     "name": "stdout",
     "output_type": "stream",
     "text": [
      "False\n"
     ]
    }
   ],
   "execution_count": 62
  },
  {
   "metadata": {
    "ExecuteTime": {
     "end_time": "2024-07-18T00:44:55.142074Z",
     "start_time": "2024-07-18T00:44:55.138560Z"
    }
   },
   "cell_type": "code",
   "source": "print(sampleStr.isupper())",
   "id": "8a21767361b10af2",
   "outputs": [
    {
     "name": "stdout",
     "output_type": "stream",
     "text": [
      "False\n"
     ]
    }
   ],
   "execution_count": 63
  },
  {
   "metadata": {},
   "cell_type": "code",
   "outputs": [],
   "execution_count": null,
   "source": [
    "# yesterday 가사 파일 읽어서 , 메모리상에서 작업 해보기,\n",
    "f = open(\"yesterday.txt\",\"r\")\n",
    "# 메모리상에 파일을 읽은 f 객체를 메서드 이용해서, 문장 추출. \n",
    "yesterday_lyric = f.readlines()\n",
    "# 읽는 도구는 사용후 메모리 반납.\n",
    "f.close()\n",
    "print(yesterday_lyric)"
   ],
   "id": "8abd6660916a81fc"
  }
 ],
 "metadata": {
  "kernelspec": {
   "display_name": "Python 3",
   "language": "python",
   "name": "python3"
  },
  "language_info": {
   "codemirror_mode": {
    "name": "ipython",
    "version": 2
   },
   "file_extension": ".py",
   "mimetype": "text/x-python",
   "name": "python",
   "nbconvert_exporter": "python",
   "pygments_lexer": "ipython2",
   "version": "2.7.6"
  }
 },
 "nbformat": 4,
 "nbformat_minor": 5
}
