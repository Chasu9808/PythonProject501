{
 "cells": [
  {
   "cell_type": "code",
   "id": "initial_id",
   "metadata": {
    "collapsed": true,
    "ExecuteTime": {
     "end_time": "2024-07-18T02:27:04.165856Z",
     "start_time": "2024-07-18T02:27:04.159728Z"
    }
   },
   "source": [
    "today_lunch_menu = {\"menu1\":\"된장찌개\",\"menu2\":\"도시락\",\"menu3\":\"참깨라면\"}\n",
    "print(today_lunch_menu)"
   ],
   "outputs": [
    {
     "name": "stdout",
     "output_type": "stream",
     "text": [
      "{'menu1': '된장찌개', 'menu2': '도시락', 'menu3': '참깨라면'}\n"
     ]
    }
   ],
   "execution_count": 1
  },
  {
   "metadata": {
    "ExecuteTime": {
     "end_time": "2024-07-18T02:27:55.214227Z",
     "start_time": "2024-07-18T02:27:55.210102Z"
    }
   },
   "cell_type": "code",
   "source": [
    "for k, v in today_lunch_menu.items():\n",
    "    print(f\"k(키) : {k}, v값 : {v}\")"
   ],
   "id": "a96152a52fbea34f",
   "outputs": [
    {
     "name": "stdout",
     "output_type": "stream",
     "text": [
      "k(키) : menu1, v값 : 된장찌개\n",
      "k(키) : menu2, v값 : 도시락\n",
      "k(키) : menu3, v값 : 참깨라면\n"
     ]
    }
   ],
   "execution_count": 2
  },
  {
   "metadata": {},
   "cell_type": "code",
   "outputs": [],
   "execution_count": null,
   "source": "",
   "id": "60eb4c1f44f84d09"
  }
 ],
 "metadata": {
  "kernelspec": {
   "display_name": "Python 3",
   "language": "python",
   "name": "python3"
  },
  "language_info": {
   "codemirror_mode": {
    "name": "ipython",
    "version": 2
   },
   "file_extension": ".py",
   "mimetype": "text/x-python",
   "name": "python",
   "nbconvert_exporter": "python",
   "pygments_lexer": "ipython2",
   "version": "2.7.6"
  }
 },
 "nbformat": 4,
 "nbformat_minor": 5
}
