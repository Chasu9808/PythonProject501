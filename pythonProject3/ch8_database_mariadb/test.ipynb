{
 "cells": [
  {
   "metadata": {},
   "cell_type": "markdown",
   "source": [
    "create database pydb;\n",
    " use pydb;\n",
    "CREATE TABLE book (\n",
    " id INT NOT NULL AUTO_INCREMENT,\n",
    " title VARCHAR(200),\n",
    " pub VARCHAR(45),\n",
    " pages INT,\n",
    " author VARCHAR(100),\n",
    " PRIMARY KEY (id)\n",
    ");"
   ],
   "id": "5904e465000bff88"
  }
 ],
 "metadata": {
  "kernelspec": {
   "display_name": "Python 3",
   "language": "python",
   "name": "python3"
  },
  "language_info": {
   "codemirror_mode": {
    "name": "ipython",
    "version": 2
   },
   "file_extension": ".py",
   "mimetype": "text/x-python",
   "name": "python",
   "nbconvert_exporter": "python",
   "pygments_lexer": "ipython2",
   "version": "2.7.6"
  }
 },
 "nbformat": 4,
 "nbformat_minor": 5
}
