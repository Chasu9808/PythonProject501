{
 "cells": [
  {
   "metadata": {},
   "cell_type": "markdown",
   "source": [
    "create database pydb;\n",
    " use pydb;\n",
    "CREATE TABLE book (\n",
    " id INT NOT NULL AUTO_INCREMENT,\n",
    " title VARCHAR(200),\n",
    " pub VARCHAR(45),\n",
    " pages INT,\n",
    " author VARCHAR(100),\n",
    " PRIMARY KEY (id)\n",
    ");"
   ],
   "id": "5904e465000bff88"
  },
  {
   "metadata": {
    "ExecuteTime": {
     "end_time": "2024-07-18T07:20:33.877350Z",
     "start_time": "2024-07-18T07:20:33.872541Z"
    }
   },
   "cell_type": "code",
   "source": [
    "#마리아디비 연결 설정\n",
    "import pymysql\n"
   ],
   "id": "7156f9e2490861c7",
   "outputs": [],
   "execution_count": 14
  },
  {
   "metadata": {
    "ExecuteTime": {
     "end_time": "2024-07-18T07:21:52.549045Z",
     "start_time": "2024-07-18T07:21:52.542064Z"
    }
   },
   "cell_type": "code",
   "source": [
    "#select 예제\n",
    "conn = pymysql.connect(\n",
    "host='127.0.0.1', \n",
    "user='root', \n",
    "password='123456',\n",
    " db='pydb', \n",
    "charset='utf8')\n",
    "cur = conn.cursor()\n",
    "cur.execute(\"SELECT * FROM book\")\n",
    "\n",
    "print(\"ID    title    writer         \")\n",
    "print(\"--------------------------------------------------------\")\n",
    "\n",
    "while (True):\n",
    "    row = cur.fetchone()\n",
    "    if row == None:\n",
    "        break\n",
    "    data1 = row[0]\n",
    "    data2 = row[1]\n",
    "    data3 = row[2]\n",
    "    \n",
    "    print(\"%5s   %15s   %15s \\n\" % (data1, data2, data3))\n",
    "    # print(f\" ID: {data1}, title: {data2}, writer: {data3}\")\n",
    "\n",
    "conn.close()"
   ],
   "id": "ee7173f9fbc55559",
   "outputs": [
    {
     "name": "stdout",
     "output_type": "stream",
     "text": [
      "ID    title    writer         \n",
      "--------------------------------------------------------\n",
      "    1             안드로이드                한빛 \n",
      "\n",
      "    2             안드로이드                한빛 \n",
      "\n",
      "    3             안드로이드                한빛 \n",
      "\n",
      "    4         Oracle DB                한빛 \n",
      "\n",
      "    5            Spring                영딘 \n",
      "\n",
      "    6             안드로이드                한빛 \n",
      "\n",
      "    7             안드로이드                한빛 \n",
      "\n",
      "    8         Oracle DB                한빛 \n",
      "\n",
      "    9            Spring                영딘 \n",
      "\n"
     ]
    }
   ],
   "execution_count": 22
  },
  {
   "metadata": {
    "ExecuteTime": {
     "end_time": "2024-07-18T07:21:43.905878Z",
     "start_time": "2024-07-18T07:21:43.875184Z"
    }
   },
   "cell_type": "code",
   "source": [
    "#insert 예제\n",
    "def insert_book(data):\n",
    "    conn=pymysql.connect(host='localhost',user='root',password='123456', db='pydb', charset='utf8')\n",
    "    cursor=conn.cursor()\n",
    "    sql=\"insert into book(title,pub,pages,author) values(%s,%s,%s,%s)\"\n",
    "    cursor.execute(sql,data)\n",
    "    conn.commit()\n",
    "    conn.close()\n",
    "    \n",
    "data=('안드로이드','한빛',650,'홍길동')\n",
    "insert_book(data)\n",
    "\n",
    "def insert_book_list(datas):\n",
    "    conn=pymysql.connect(host='localhost',user='root',password='123456',db='pydb',charset='utf8')\n",
    "    cursor=conn.cursor()\n",
    "    sql=\"insert into book(title,pub,pages,author) values(%s,%s,%s,%s)\"\n",
    "    cursor.executemany(sql,datas)\n",
    "    conn.commit()\n",
    "    conn.close()\n",
    "datas=[('안드로이드','한빛',650,'홍길동'),\n",
    " ('Oracle DB','한빛',650,'홍길동'),\n",
    " ('Spring','영딘',650,'홍길동')]\n",
    "insert_book_list(datas)"
   ],
   "id": "360a49f003062357",
   "outputs": [],
   "execution_count": 21
  }
 ],
 "metadata": {
  "kernelspec": {
   "display_name": "Python 3",
   "language": "python",
   "name": "python3"
  },
  "language_info": {
   "codemirror_mode": {
    "name": "ipython",
    "version": 2
   },
   "file_extension": ".py",
   "mimetype": "text/x-python",
   "name": "python",
   "nbconvert_exporter": "python",
   "pygments_lexer": "ipython2",
   "version": "2.7.6"
  }
 },
 "nbformat": 4,
 "nbformat_minor": 5
}
