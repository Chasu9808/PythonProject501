{
 "cells": [
  {
   "cell_type": "code",
   "id": "initial_id",
   "metadata": {
    "collapsed": true,
    "ExecuteTime": {
     "end_time": "2024-07-18T05:20:23.708759Z",
     "start_time": "2024-07-18T05:20:23.703727Z"
    }
   },
   "source": [
    "class CatSoccerPlayer(object):\n",
    "    def __init__(self,name,position,back_number):\n",
    "        self.name = name\n",
    "        self.position = position\n",
    "        self.back_number = back_number\n",
    "    \n",
    "    def change_back_number(self,new_number):\n",
    "        print(f\"현재 등번호 {self.back_number} to {new_number}\")\n",
    "        self.back_number = new_number\n",
    "        \n",
    "    def __str__(self):\n",
    "        return f'이름: {self.name}, 포지션: {self.position}, 등번호: {self.back_number}'\n",
    "        "
   ],
   "outputs": [],
   "execution_count": 5
  },
  {
   "metadata": {
    "ExecuteTime": {
     "end_time": "2024-07-18T05:20:23.714779Z",
     "start_time": "2024-07-18T05:20:23.709752Z"
    }
   },
   "cell_type": "code",
   "source": [
    "#인스턴스 생성하기. \n",
    "lsyCatPlayer1 = CatSoccerPlayer(\"상용고양이선수1\",\"MF\",\"100\")\n",
    "print(lsyCatPlayer1)"
   ],
   "id": "f77e1bdaedd65d14",
   "outputs": [
    {
     "name": "stdout",
     "output_type": "stream",
     "text": [
      "이름: 상용고양이선수1, 포지션: MF, 등번호: 100\n"
     ]
    }
   ],
   "execution_count": 6
  },
  {
   "metadata": {
    "ExecuteTime": {
     "end_time": "2024-07-18T05:20:23.719887Z",
     "start_time": "2024-07-18T05:20:23.715775Z"
    }
   },
   "cell_type": "code",
   "source": "lsyCatPlayer1.change_back_number(\"200\")",
   "id": "76cf283435fbc65c",
   "outputs": [
    {
     "name": "stdout",
     "output_type": "stream",
     "text": [
      "현재 등번호 100 to 200\n"
     ]
    }
   ],
   "execution_count": 7
  },
  {
   "metadata": {
    "ExecuteTime": {
     "end_time": "2024-07-18T05:20:23.723880Z",
     "start_time": "2024-07-18T05:20:23.720879Z"
    }
   },
   "cell_type": "code",
   "source": "",
   "id": "2be75f4ec796bc1d",
   "outputs": [],
   "execution_count": 7
  }
 ],
 "metadata": {
  "kernelspec": {
   "display_name": "Python 3",
   "language": "python",
   "name": "python3"
  },
  "language_info": {
   "codemirror_mode": {
    "name": "ipython",
    "version": 2
   },
   "file_extension": ".py",
   "mimetype": "text/x-python",
   "name": "python",
   "nbconvert_exporter": "python",
   "pygments_lexer": "ipython2",
   "version": "2.7.6"
  }
 },
 "nbformat": 4,
 "nbformat_minor": 5
}
