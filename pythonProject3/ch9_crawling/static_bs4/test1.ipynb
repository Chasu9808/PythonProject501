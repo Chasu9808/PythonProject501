{
 "cells": [
  {
   "metadata": {},
   "cell_type": "markdown",
   "source": [
    "# 정적 크롤링(웹 스크래핑), 웹에서 정보를 가져오기. \n",
    "### 예)정보 수집 관련 동의 항목 확인 방법. \n",
    "### 해당 사이트 뒤에 /robots.txt\n",
    "### www.nate.com/robots.txt\n",
    "### ex)\n",
    "### User-agent: *\n",
    "### Disallow: /\n",
    "### Allow : /$\n",
    "### Allow : /ads.txt\n",
    "\n",
    "## 정적 크롤링 : 웹 사이트에서, 페이지 소스보기, 보이는 html 태그를 수집을 함. \n",
    "\n",
    "## 동적 크롤링 : 자바스크립트가 연관 되어서, 클릭이 해야, 데이터를 받아올수 있다. -> 셀레니움이라는 도구를 이용. \n",
    "-> 가상의 웹브라우저에서, 우리가 명령한 사이트에 접속도 하고, \n",
    "우리가 지정한 요소를 클릭도 하고, 스크롤 내려주고, 클릭을 유지도하고, 키워드를 입력도하고, 우리가 지정한 가상의 키워드도 대신 입력 해주고, 잠시 대기하라고 대기도 가능. 필요한 요소를 복사도 다 가능함. \n"
   ],
   "id": "92ef59509734138b"
  },
  {
   "metadata": {},
   "cell_type": "code",
   "outputs": [],
   "execution_count": null,
   "source": [
    "import urllib.request\n",
    "\n",
    "nateUrl = \"https://www.nate.com//\"\n",
    "# 접근 할려는 사이트 주소의 객체를 생성\n",
    "htmlObject = urllib.request.urlopen(nateUrl)\n",
    "# 해당 웹사이트의 모든 html 태그를 읽기.\n",
    "html = htmlObject.read()\n",
    "# 정돈이 잘 안되었음. -> 정리 정돈을 하기위해서 bs4 \n",
    "print(html)"
   ],
   "id": "c45ed82ea8b802a9"
  }
 ],
 "metadata": {
  "kernelspec": {
   "display_name": "Python 3",
   "language": "python",
   "name": "python3"
  },
  "language_info": {
   "codemirror_mode": {
    "name": "ipython",
    "version": 2
   },
   "file_extension": ".py",
   "mimetype": "text/x-python",
   "name": "python",
   "nbconvert_exporter": "python",
   "pygments_lexer": "ipython2",
   "version": "2.7.6"
  }
 },
 "nbformat": 4,
 "nbformat_minor": 5
}
