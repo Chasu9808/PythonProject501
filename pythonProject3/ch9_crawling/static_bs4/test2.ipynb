{
 "cells": [
  {
   "cell_type": "code",
   "id": "initial_id",
   "metadata": {
    "collapsed": true,
    "ExecuteTime": {
     "end_time": "2024-07-19T00:49:30.699253Z",
     "start_time": "2024-07-19T00:49:30.631936Z"
    }
   },
   "source": [
    "import bs4\n",
    "\n",
    "# 물리 파일 html 문서를 읽어서, text ,utf-8 읽기\n",
    "webPage = open(\"D:/PyTestBusanIt501/pythonProject3/ch9_crawling/static_bs4/Sample02.html\",\"rt\",encoding=\"utf-8\").read()\n",
    "# html 문서로 보기좋게 변환하기.\n",
    "bsObject = bs4.BeautifulSoup(webPage,\"html.parser\")\n",
    "# 해당 웹 문서에서 div 태그 요소 선택 하기\n",
    "tag_div = bsObject.find('div')\n",
    "print(tag_div)\n",
    "\n"
   ],
   "outputs": [
    {
     "name": "stdout",
     "output_type": "stream",
     "text": [
      "<div> 요기를 클릭하세요 </div>\n"
     ]
    }
   ],
   "execution_count": 1
  }
 ],
 "metadata": {
  "kernelspec": {
   "display_name": "Python 3",
   "language": "python",
   "name": "python3"
  },
  "language_info": {
   "codemirror_mode": {
    "name": "ipython",
    "version": 2
   },
   "file_extension": ".py",
   "mimetype": "text/x-python",
   "name": "python",
   "nbconvert_exporter": "python",
   "pygments_lexer": "ipython2",
   "version": "2.7.6"
  }
 },
 "nbformat": 4,
 "nbformat_minor": 5
}
