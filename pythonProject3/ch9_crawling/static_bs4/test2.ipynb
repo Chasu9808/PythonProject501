{
 "cells": [
  {
   "cell_type": "code",
   "id": "initial_id",
   "metadata": {
    "collapsed": true,
    "ExecuteTime": {
     "end_time": "2024-07-19T01:10:53.022482Z",
     "start_time": "2024-07-19T01:10:53.016231Z"
    }
   },
   "source": [
    "import bs4\n",
    "\n",
    "# 물리 파일 html 문서를 읽어서, text ,utf-8 읽기\n",
    "webPage = open(\"D:/PyTestBusanIt501/pythonProject3/ch9_crawling/static_bs4/Sample02.html\",\"rt\",encoding=\"utf-8\").read()\n",
    "# html 문서로 보기좋게 변환하기.\n",
    "bsObject = bs4.BeautifulSoup(webPage,\"html.parser\")\n",
    "# 해당 웹 문서에서 div 태그 요소 선택 하기\n",
    "tag_div = bsObject.find('div')\n",
    "print(tag_div)\n",
    "\n",
    "tag_ul = bsObject.find('ul')\n",
    "print(tag_ul)\n",
    "\n",
    "tag_li = bsObject.find('li')\n",
    "print(tag_li)\n",
    "\n",
    "tag_lis = bsObject.findAll('li')\n",
    "print(tag_lis)\n",
    "\n"
   ],
   "outputs": [
    {
     "name": "stdout",
     "output_type": "stream",
     "text": [
      "<div> 요기를 클릭하세요 </div>\n",
      "<ul>\n",
      "<li> 한빛출판네트워크 </li>\n",
      "<li> 비기너 </li>\n",
      "<li> 데이터 분석 </li>\n",
      "</ul>\n",
      "<li> 한빛출판네트워크 </li>\n",
      "[<li> 한빛출판네트워크 </li>, <li> 비기너 </li>, <li> 데이터 분석 </li>]\n"
     ]
    }
   ],
   "execution_count": 4
  },
  {
   "metadata": {},
   "cell_type": "code",
   "outputs": [],
   "execution_count": null,
   "source": "",
   "id": "46de314748c205d0"
  }
 ],
 "metadata": {
  "kernelspec": {
   "display_name": "Python 3",
   "language": "python",
   "name": "python3"
  },
  "language_info": {
   "codemirror_mode": {
    "name": "ipython",
    "version": 2
   },
   "file_extension": ".py",
   "mimetype": "text/x-python",
   "name": "python",
   "nbconvert_exporter": "python",
   "pygments_lexer": "ipython2",
   "version": "2.7.6"
  }
 },
 "nbformat": 4,
 "nbformat_minor": 5
}
