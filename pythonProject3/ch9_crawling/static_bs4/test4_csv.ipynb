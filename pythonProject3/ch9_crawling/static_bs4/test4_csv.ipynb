{
 "cells": [
  {
   "cell_type": "code",
   "id": "initial_id",
   "metadata": {
    "collapsed": true,
    "ExecuteTime": {
     "end_time": "2024-07-19T02:28:43.208246Z",
     "start_time": "2024-07-19T02:28:33.170640Z"
    }
   },
   "source": [
    "import csv\n",
    "import time\n",
    "import datetime\n",
    "\n",
    "# csv 파일을 저장할 물리 경로 지정.\n",
    "csvName = \"D:/PyTestBusanIt501/pythonProject3/ch9_crawling/static_bs4/sampleCsv_datetime_240719.csv\"\n",
    "\n",
    "# with 구문은, 파일 객체를 자동으로 반납하는 기능이 포함. \n",
    "with open(csvName, \"w\", newline=\"\", encoding=\"UTF-8\") as csvfile:\n",
    "    csvwriter = csv.writer(csvfile)\n",
    "    # 행에 정보 넣기\n",
    "    csvwriter.writerow(['연월일','시분초'])\n",
    "\n",
    "# 상태 변수, 전체 반복 횟수를 체크하는 용도. \n",
    "count = 10\n",
    "while count > 0:\n",
    "    count -= 1\n",
    "    \n",
    "    # 날짜 및 시간 정보 가져오기. \n",
    "    now = datetime.datetime.now()\n",
    "    yymmdd = now.strftime(\"%Y-%m-%d\")\n",
    "    hhmmss = now.strftime(\"%H:%M:%S\")\n",
    "    time_list = [yymmdd,hhmmss]\n",
    "    print(time_list)\n",
    "    \n",
    "    #위의 날짜 및 시간의 정보를 csv 파일에 쓰기 작업. \n",
    "    with open(csvName, \"a\", newline=\"\", encoding=\"UTF-8\") as csvfile:\n",
    "        csvwriter = csv.writer(csvfile)\n",
    "        csvwriter.writerow(time_list)\n",
    "    \n",
    "    #1초마다 , 진행하기. 1초씩 쉬기.     \n",
    "    time.sleep(1)\n",
    "    \n",
    "\n"
   ],
   "outputs": [
    {
     "name": "stdout",
     "output_type": "stream",
     "text": [
      "['2024-07-19', '11:28:33']\n",
      "['2024-07-19', '11:28:34']\n",
      "['2024-07-19', '11:28:35']\n",
      "['2024-07-19', '11:28:36']\n",
      "['2024-07-19', '11:28:37']\n",
      "['2024-07-19', '11:28:38']\n",
      "['2024-07-19', '11:28:39']\n",
      "['2024-07-19', '11:28:40']\n",
      "['2024-07-19', '11:28:41']\n",
      "['2024-07-19', '11:28:42']\n"
     ]
    }
   ],
   "execution_count": 2
  },
  {
   "metadata": {},
   "cell_type": "code",
   "outputs": [],
   "execution_count": null,
   "source": "",
   "id": "7338fa4f5bc9b0aa"
  }
 ],
 "metadata": {
  "kernelspec": {
   "display_name": "Python 3",
   "language": "python",
   "name": "python3"
  },
  "language_info": {
   "codemirror_mode": {
    "name": "ipython",
    "version": 2
   },
   "file_extension": ".py",
   "mimetype": "text/x-python",
   "name": "python",
   "nbconvert_exporter": "python",
   "pygments_lexer": "ipython2",
   "version": "2.7.6"
  }
 },
 "nbformat": 4,
 "nbformat_minor": 5
}
