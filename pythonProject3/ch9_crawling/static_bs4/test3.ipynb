{
 "cells": [
  {
   "cell_type": "code",
   "id": "initial_id",
   "metadata": {
    "collapsed": true,
    "ExecuteTime": {
     "end_time": "2024-07-19T01:48:56.901407Z",
     "start_time": "2024-07-19T01:48:56.787864Z"
    }
   },
   "source": [
    "# <div id=\"NateBi\" class=\"area_bi\" role=\"banner\">\n",
    "#     <h1 title=\"네이트\" class=\"bi\"><a href=\"//www.nate.com/?f=bi\" onmousedown=\"nc('NBI01');\">네이트</a></h1>\n",
    "# </div>\n",
    "# 1차 목적 , nate.com에서, div id가 NateBi -> 접근 \n",
    "# 2차 , div id가 NateBi -> 접근  -> a 태그의 href 속성에 접근하기. \n",
    "import bs4 \n",
    "import urllib.request\n",
    "\n",
    "nateUrl = \"https://www.nate.com//\"\n",
    "# 접근 할려는 사이트 주소의 객체를 생성\n",
    "htmlObject = urllib.request.urlopen(nateUrl)\n",
    "# 정리 정돈 된 태그들의 트리 보기. \n",
    "bsObject = bs4.BeautifulSoup(htmlObject, \"html.parser\")\n",
    "\n",
    "#div , id : NateBi \n",
    "tag_div_id = bsObject.find('div', {'id' : 'NateBi'})\n",
    "print(tag_div_id)\n",
    "\n",
    "# 방금 접근한 id NateBi 의 하위 태그인 a 태그에 접근하기. \n",
    "tag_div_id_h1 = tag_div_id.find('a')\n",
    "print(tag_div_id_h1)"
   ],
   "outputs": [
    {
     "name": "stdout",
     "output_type": "stream",
     "text": [
      "<div class=\"area_bi\" id=\"NateBi\" role=\"banner\">\n",
      "<h1 class=\"bi\" title=\"네이트\"><a href=\"//www.nate.com/?f=bi\" onmousedown=\"nc('NBI01');\">네이트</a></h1>\n",
      "</div>\n",
      "<a href=\"//www.nate.com/?f=bi\" onmousedown=\"nc('NBI01');\">네이트</a>\n"
     ]
    }
   ],
   "execution_count": 5
  },
  {
   "metadata": {
    "ExecuteTime": {
     "end_time": "2024-07-19T01:48:56.904428Z",
     "start_time": "2024-07-19T01:48:56.902424Z"
    }
   },
   "cell_type": "code",
   "source": "",
   "id": "591f0f364463e35c",
   "outputs": [],
   "execution_count": 5
  }
 ],
 "metadata": {
  "kernelspec": {
   "display_name": "Python 3",
   "language": "python",
   "name": "python3"
  },
  "language_info": {
   "codemirror_mode": {
    "name": "ipython",
    "version": 2
   },
   "file_extension": ".py",
   "mimetype": "text/x-python",
   "name": "python",
   "nbconvert_exporter": "python",
   "pygments_lexer": "ipython2",
   "version": "2.7.6"
  }
 },
 "nbformat": 4,
 "nbformat_minor": 5
}
